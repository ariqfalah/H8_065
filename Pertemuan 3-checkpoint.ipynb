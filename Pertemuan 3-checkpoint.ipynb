{
 "cells": [
  {
   "cell_type": "markdown",
   "id": "ffd764c2",
   "metadata": {},
   "source": [
    "Pertemuan 3"
   ]
  },
  {
   "cell_type": "code",
   "execution_count": 2,
   "id": "964c72b0",
   "metadata": {},
   "outputs": [],
   "source": [
    "def my_function (p, l):\n",
    "    print (p*l)"
   ]
  },
  {
   "cell_type": "code",
   "execution_count": 4,
   "id": "46a4c2a9",
   "metadata": {},
   "outputs": [
    {
     "name": "stdout",
     "output_type": "stream",
     "text": [
      "15\n"
     ]
    }
   ],
   "source": [
    "my_function (3, 5)"
   ]
  },
  {
   "cell_type": "code",
   "execution_count": 5,
   "id": "2c175a17",
   "metadata": {},
   "outputs": [],
   "source": [
    "def printme (str):\n",
    "    print (str)\n",
    "    return;"
   ]
  },
  {
   "cell_type": "code",
   "execution_count": 6,
   "id": "d57fc4ef",
   "metadata": {},
   "outputs": [
    {
     "name": "stdout",
     "output_type": "stream",
     "text": [
      "first call to user defined function\n",
      "second call same function\n"
     ]
    }
   ],
   "source": [
    "printme(\"first call to user defined function\")\n",
    "printme (\"second call same function\")"
   ]
  },
  {
   "cell_type": "code",
   "execution_count": 79,
   "id": "556f19b4",
   "metadata": {},
   "outputs": [
    {
     "name": "stdout",
     "output_type": "stream",
     "text": [
      "values outside the function : [10, 20, 30]\n"
     ]
    }
   ],
   "source": [
    "def changeme(mylist):\n",
    "    mylist([1,2,3]);\n",
    "    print('values inside the function : ', mylist)\n",
    "    return\n",
    "    mylist = [10, 20, 30];\n",
    "    changeme(mylist);\n",
    "print ('values outside the function :', mylist)"
   ]
  },
  {
   "cell_type": "code",
   "execution_count": 7,
   "id": "5198cef0",
   "metadata": {},
   "outputs": [],
   "source": [
    "def changeme (mylist):\n",
    "    mylist.append(['apel','mangga','jeruk']);\n",
    "    print('buah-buahan : ', mylist)\n",
    "    return"
   ]
  },
  {
   "cell_type": "code",
   "execution_count": 8,
   "id": "7c93aabf",
   "metadata": {},
   "outputs": [
    {
     "name": "stdout",
     "output_type": "stream",
     "text": [
      "buah-buahan :  ['nanas', 'anggur', 'melon', ['apel', 'mangga', 'jeruk']]\n",
      "buah-buah lain : ['nanas', 'anggur', 'melon', ['apel', 'mangga', 'jeruk']]\n"
     ]
    }
   ],
   "source": [
    "mylist = ['nanas', 'anggur', 'melon'];\n",
    "changeme (mylist);\n",
    "print ('buah-buah lain :', mylist)"
   ]
  },
  {
   "cell_type": "code",
   "execution_count": 9,
   "id": "c02a9d62",
   "metadata": {},
   "outputs": [],
   "source": [
    "def printme (str):\n",
    "    print (str)\n",
    "    return;"
   ]
  },
  {
   "cell_type": "code",
   "execution_count": 10,
   "id": "b7f9761f",
   "metadata": {},
   "outputs": [
    {
     "name": "stdout",
     "output_type": "stream",
     "text": [
      "Hactive8\n"
     ]
    }
   ],
   "source": [
    "printme (str = 'Hactive8')"
   ]
  },
  {
   "cell_type": "code",
   "execution_count": 12,
   "id": "d4f1f4ec",
   "metadata": {},
   "outputs": [],
   "source": [
    "def printinfo (nama, umur):\n",
    "    print ('nama : ', nama)\n",
    "    print ('umur : ', umur)\n",
    "    return;"
   ]
  },
  {
   "cell_type": "code",
   "execution_count": 13,
   "id": "0a636ab5",
   "metadata": {},
   "outputs": [
    {
     "name": "stdout",
     "output_type": "stream",
     "text": [
      "nama :  hactiv\n",
      "umur :  20\n"
     ]
    }
   ],
   "source": [
    "printinfo(umur = 20, nama = 'hactiv')"
   ]
  },
  {
   "cell_type": "code",
   "execution_count": 17,
   "id": "6fe24445",
   "metadata": {},
   "outputs": [],
   "source": [
    "def printinfo (arg1, *vartuple):\n",
    "    print('output is:')\n",
    "    print(arg1)\n",
    "    for var in vartuple:\n",
    "        print (var)\n",
    "    return;\n",
    "    "
   ]
  },
  {
   "cell_type": "code",
   "execution_count": 19,
   "id": "efcfefc2",
   "metadata": {},
   "outputs": [
    {
     "name": "stdout",
     "output_type": "stream",
     "text": [
      "output is:\n",
      "20\n",
      "output is:\n",
      "35\n",
      "60\n",
      "75\n",
      "c\n"
     ]
    }
   ],
   "source": [
    "printinfo(20)\n",
    "printinfo(35, 60, 75, 'c')"
   ]
  },
  {
   "cell_type": "code",
   "execution_count": 84,
   "id": "d8ec0a43",
   "metadata": {},
   "outputs": [
    {
     "name": "stdout",
     "output_type": "stream",
     "text": [
      "15\n"
     ]
    }
   ],
   "source": [
    "sum = lambda arg1, arg2: arg1+arg2\n",
    "print(sum(10,5))"
   ]
  },
  {
   "cell_type": "code",
   "execution_count": 89,
   "id": "ceaab1f6",
   "metadata": {},
   "outputs": [
    {
     "name": "stdout",
     "output_type": "stream",
     "text": [
      "15\n"
     ]
    }
   ],
   "source": [
    "def sum(arg1,arg2):\n",
    "    return arg1+arg2\n",
    "print(sum(10,5))"
   ]
  },
  {
   "cell_type": "code",
   "execution_count": 40,
   "id": "65d7c253",
   "metadata": {},
   "outputs": [],
   "source": [
    "def sum(a, b):\n",
    "    total = a+b\n",
    "    total2 = total + a\n",
    "    print ('inside function :', total)\n",
    "    return total2"
   ]
  },
  {
   "cell_type": "code",
   "execution_count": 41,
   "id": "44717912",
   "metadata": {},
   "outputs": [
    {
     "name": "stdout",
     "output_type": "stream",
     "text": [
      "inside function : 40\n",
      "outside function : 50\n"
     ]
    }
   ],
   "source": [
    "total =  sum(10,30)\n",
    "print ('outside function :', total)"
   ]
  },
  {
   "cell_type": "code",
   "execution_count": 92,
   "id": "2166d950",
   "metadata": {},
   "outputs": [
    {
     "name": "stdout",
     "output_type": "stream",
     "text": [
      "inside function : 25\n",
      "outside function : 5\n"
     ]
    }
   ],
   "source": [
    "total = 5;\n",
    "def sum(total, b):\n",
    "    total += b\n",
    "    print ('inside function :', total)\n",
    "    return total;\n",
    "\n",
    "sum(total, 20);\n",
    "print ('outside function :', total)"
   ]
  },
  {
   "cell_type": "code",
   "execution_count": 67,
   "id": "0b998151",
   "metadata": {
    "scrolled": true
   },
   "outputs": [
    {
     "data": {
      "text/plain": [
       "60"
      ]
     },
     "execution_count": 67,
     "metadata": {},
     "output_type": "execute_result"
    }
   ],
   "source": [
    "jumlahKucing = 20\n",
    "jumlahTikus = 40\n",
    "def jumlahHewan():\n",
    "    return jumlahTikus+jumlahKucing\n",
    "def jumlahAyam():\n",
    "    return jumlahTikus+jumlahTikus\n",
    "\n",
    "jumlahHewan()"
   ]
  },
  {
   "cell_type": "code",
   "execution_count": 68,
   "id": "b6ecadea",
   "metadata": {},
   "outputs": [
    {
     "data": {
      "text/plain": [
       "80"
      ]
     },
     "execution_count": 68,
     "metadata": {},
     "output_type": "execute_result"
    }
   ],
   "source": [
    "jumlahAyam()"
   ]
  },
  {
   "cell_type": "code",
   "execution_count": 66,
   "id": "e7b97aca",
   "metadata": {},
   "outputs": [
    {
     "name": "stdout",
     "output_type": "stream",
     "text": [
      "Hactiv8-PTP Python For Data Science\n"
     ]
    }
   ],
   "source": [
    "import mod\n",
    "print (mod.s)"
   ]
  },
  {
   "cell_type": "code",
   "execution_count": 69,
   "id": "6daa2953",
   "metadata": {},
   "outputs": [
    {
     "data": {
      "text/plain": [
       "[100, 200, 300]"
      ]
     },
     "execution_count": 69,
     "metadata": {},
     "output_type": "execute_result"
    }
   ],
   "source": [
    "mod.a"
   ]
  },
  {
   "cell_type": "code",
   "execution_count": 73,
   "id": "2cb13cf3",
   "metadata": {},
   "outputs": [
    {
     "data": {
      "text/plain": [
       "<mod.Foo at 0x108f1613b50>"
      ]
     },
     "execution_count": 73,
     "metadata": {},
     "output_type": "execute_result"
    }
   ],
   "source": [
    "x = mod.Foo()\n",
    "x"
   ]
  },
  {
   "cell_type": "code",
   "execution_count": 97,
   "id": "180e4326",
   "metadata": {},
   "outputs": [
    {
     "name": "stdout",
     "output_type": "stream",
     "text": [
      "arg=qux\n"
     ]
    }
   ],
   "source": [
    "import mod as my_module\n",
    "my_module.foo('qux')"
   ]
  },
  {
   "cell_type": "code",
   "execution_count": null,
   "id": "a54a9f80",
   "metadata": {},
   "outputs": [],
   "source": []
  }
 ],
 "metadata": {
  "kernelspec": {
   "display_name": "Python 3",
   "language": "python",
   "name": "python3"
  },
  "language_info": {
   "codemirror_mode": {
    "name": "ipython",
    "version": 3
   },
   "file_extension": ".py",
   "mimetype": "text/x-python",
   "name": "python",
   "nbconvert_exporter": "python",
   "pygments_lexer": "ipython3",
   "version": "3.8.8"
  }
 },
 "nbformat": 4,
 "nbformat_minor": 5
}
