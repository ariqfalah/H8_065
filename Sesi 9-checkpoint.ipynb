{
 "cells": [
  {
   "cell_type": "markdown",
   "id": "01c4d51b",
   "metadata": {},
   "source": [
    "Sesi 9"
   ]
  },
  {
   "cell_type": "code",
   "execution_count": 1,
   "id": "88322702",
   "metadata": {},
   "outputs": [],
   "source": [
    "import math\n",
    "import statistics\n",
    "import numpy as np\n",
    "import scipy.stats\n",
    "import pandas as pd"
   ]
  },
  {
   "cell_type": "code",
   "execution_count": 3,
   "id": "54a42bfe",
   "metadata": {},
   "outputs": [],
   "source": [
    "x = [8.0, 1, 2.5, 4, 28.0]\n",
    "x_with_nan = [8.0, 1, 2.5, math.nan, 4, 28.0]"
   ]
  },
  {
   "cell_type": "code",
   "execution_count": 4,
   "id": "fe8be0bb",
   "metadata": {},
   "outputs": [
    {
     "name": "stdout",
     "output_type": "stream",
     "text": [
      "[8.0, 1, 2.5, 4, 28.0]\n",
      "[8.0, 1, 2.5, nan, 4, 28.0]\n"
     ]
    }
   ],
   "source": [
    "print(x)\n",
    "print(x_with_nan)"
   ]
  },
  {
   "cell_type": "code",
   "execution_count": 5,
   "id": "a2bc7b7e",
   "metadata": {},
   "outputs": [],
   "source": [
    "y, y_with_nan = np.array(x), np.array(x_with_nan)\n",
    "z, z_with_nan = pd.Series(x), pd.Series(x_with_nan)"
   ]
  },
  {
   "cell_type": "code",
   "execution_count": 6,
   "id": "d8c9d9d0",
   "metadata": {},
   "outputs": [
    {
     "name": "stdout",
     "output_type": "stream",
     "text": [
      "[ 8.   1.   2.5  4.  28. ]\n",
      "[ 8.   1.   2.5  nan  4.  28. ]\n",
      "0     8.0\n",
      "1     1.0\n",
      "2     2.5\n",
      "3     NaN\n",
      "4     4.0\n",
      "5    28.0\n",
      "dtype: float64\n"
     ]
    }
   ],
   "source": [
    "print(y)\n",
    "print(y_with_nan)\n",
    "print(z_with_nan)"
   ]
  },
  {
   "cell_type": "code",
   "execution_count": 7,
   "id": "95364467",
   "metadata": {},
   "outputs": [],
   "source": [
    "mean_ = sum(x) / len(x)"
   ]
  },
  {
   "cell_type": "code",
   "execution_count": 8,
   "id": "07d8cfe9",
   "metadata": {},
   "outputs": [
    {
     "data": {
      "text/plain": [
       "8.7"
      ]
     },
     "execution_count": 8,
     "metadata": {},
     "output_type": "execute_result"
    }
   ],
   "source": [
    "mean_"
   ]
  },
  {
   "cell_type": "code",
   "execution_count": 9,
   "id": "cb0c5482",
   "metadata": {},
   "outputs": [],
   "source": [
    "mean_ = statistics.mean(x_with_nan)"
   ]
  },
  {
   "cell_type": "code",
   "execution_count": 10,
   "id": "7873131a",
   "metadata": {},
   "outputs": [
    {
     "data": {
      "text/plain": [
       "nan"
      ]
     },
     "execution_count": 10,
     "metadata": {},
     "output_type": "execute_result"
    }
   ],
   "source": [
    "mean_ "
   ]
  },
  {
   "cell_type": "code",
   "execution_count": 11,
   "id": "af5052e6",
   "metadata": {},
   "outputs": [],
   "source": [
    "mean_ = y.mean()"
   ]
  },
  {
   "cell_type": "code",
   "execution_count": 12,
   "id": "92085084",
   "metadata": {},
   "outputs": [
    {
     "data": {
      "text/plain": [
       "8.7"
      ]
     },
     "execution_count": 12,
     "metadata": {},
     "output_type": "execute_result"
    }
   ],
   "source": [
    "mean_ "
   ]
  },
  {
   "cell_type": "code",
   "execution_count": 13,
   "id": "35f17050",
   "metadata": {},
   "outputs": [
    {
     "name": "stdout",
     "output_type": "stream",
     "text": [
      "nan\n",
      "nan\n"
     ]
    }
   ],
   "source": [
    "print(np.mean(y_with_nan))\n",
    "print(y_with_nan.mean())"
   ]
  },
  {
   "cell_type": "code",
   "execution_count": 14,
   "id": "daeb33c6",
   "metadata": {},
   "outputs": [
    {
     "data": {
      "text/plain": [
       "8.7"
      ]
     },
     "execution_count": 14,
     "metadata": {},
     "output_type": "execute_result"
    }
   ],
   "source": [
    "np.nanmean(y_with_nan)"
   ]
  },
  {
   "cell_type": "code",
   "execution_count": 15,
   "id": "25870ed3",
   "metadata": {},
   "outputs": [],
   "source": [
    "mean_ = z.mean()"
   ]
  },
  {
   "cell_type": "code",
   "execution_count": 16,
   "id": "3842bae4",
   "metadata": {},
   "outputs": [
    {
     "data": {
      "text/plain": [
       "8.7"
      ]
     },
     "execution_count": 16,
     "metadata": {},
     "output_type": "execute_result"
    }
   ],
   "source": [
    "mean_ "
   ]
  },
  {
   "cell_type": "code",
   "execution_count": 17,
   "id": "005b9dd7",
   "metadata": {},
   "outputs": [
    {
     "data": {
      "text/plain": [
       "8.7"
      ]
     },
     "execution_count": 17,
     "metadata": {},
     "output_type": "execute_result"
    }
   ],
   "source": [
    "z_with_nan.mean()"
   ]
  },
  {
   "cell_type": "code",
   "execution_count": 18,
   "id": "9a78b1ba",
   "metadata": {},
   "outputs": [
    {
     "data": {
      "text/plain": [
       "4.8"
      ]
     },
     "execution_count": 18,
     "metadata": {},
     "output_type": "execute_result"
    }
   ],
   "source": [
    "0.2 * 2 + 0.5 * 4 + 0.3 * 8"
   ]
  },
  {
   "cell_type": "code",
   "execution_count": 19,
   "id": "109a660d",
   "metadata": {},
   "outputs": [
    {
     "name": "stdout",
     "output_type": "stream",
     "text": [
      "6.95\n",
      "6.95\n"
     ]
    }
   ],
   "source": [
    "x = [8.0, 1, 2.5, 4, 28.0]\n",
    "w = [0.1, 0.2, 0.3, 0.25, 0.15]\n",
    "\n",
    "wmean = sum(w[i] * x[i] for i in range(len(x))) / sum(w)\n",
    "print(wmean)\n",
    "\n",
    "wmean = sum(x_ * w_ for (x_, w_) in zip(x, w)) / sum(w)\n",
    "print(wmean)"
   ]
  },
  {
   "cell_type": "code",
   "execution_count": 20,
   "id": "79602421",
   "metadata": {},
   "outputs": [
    {
     "name": "stdout",
     "output_type": "stream",
     "text": [
      "6.95\n",
      "6.95\n"
     ]
    }
   ],
   "source": [
    "y, z, w = np.array(x), pd.Series(x), np.array(w)\n",
    "\n",
    "wmean = np.average(y, weights=w)\n",
    "print(wmean)\n",
    "\n",
    "wmean = np.average(z, weights=w)\n",
    "print(wmean)"
   ]
  },
  {
   "cell_type": "code",
   "execution_count": 21,
   "id": "b4f21f0b",
   "metadata": {},
   "outputs": [
    {
     "data": {
      "text/plain": [
       "6.95"
      ]
     },
     "execution_count": 21,
     "metadata": {},
     "output_type": "execute_result"
    }
   ],
   "source": [
    "(w * y).sum() / w.sum()"
   ]
  },
  {
   "cell_type": "code",
   "execution_count": 22,
   "id": "09440791",
   "metadata": {},
   "outputs": [],
   "source": [
    "hmean = len(x) / sum(1 / item for item in x)"
   ]
  },
  {
   "cell_type": "code",
   "execution_count": 23,
   "id": "1ff714d1",
   "metadata": {},
   "outputs": [
    {
     "data": {
      "text/plain": [
       "2.7613412228796843"
      ]
     },
     "execution_count": 23,
     "metadata": {},
     "output_type": "execute_result"
    }
   ],
   "source": [
    "hmean "
   ]
  },
  {
   "cell_type": "code",
   "execution_count": 24,
   "id": "d0d1d0cc",
   "metadata": {},
   "outputs": [],
   "source": [
    "hmean = statistics.harmonic_mean(x)"
   ]
  },
  {
   "cell_type": "code",
   "execution_count": 25,
   "id": "a46c7e1a",
   "metadata": {},
   "outputs": [
    {
     "data": {
      "text/plain": [
       "2.7613412228796843"
      ]
     },
     "execution_count": 25,
     "metadata": {},
     "output_type": "execute_result"
    }
   ],
   "source": [
    "hmean"
   ]
  },
  {
   "cell_type": "code",
   "execution_count": 26,
   "id": "6c3dd38f",
   "metadata": {},
   "outputs": [
    {
     "data": {
      "text/plain": [
       "2.7613412228796843"
      ]
     },
     "execution_count": 26,
     "metadata": {},
     "output_type": "execute_result"
    }
   ],
   "source": [
    "scipy.stats.hmean(y)"
   ]
  },
  {
   "cell_type": "code",
   "execution_count": 27,
   "id": "cf1d1315",
   "metadata": {},
   "outputs": [
    {
     "data": {
      "text/plain": [
       "2.7613412228796843"
      ]
     },
     "execution_count": 27,
     "metadata": {},
     "output_type": "execute_result"
    }
   ],
   "source": [
    "scipy.stats.hmean(z)"
   ]
  },
  {
   "cell_type": "code",
   "execution_count": 28,
   "id": "f1f114e5",
   "metadata": {},
   "outputs": [],
   "source": [
    "gmean = 1\n",
    "\n",
    "for item in x:\n",
    "    gmean *= item\n",
    "\n",
    "gmean **= 1 / len(x)"
   ]
  },
  {
   "cell_type": "code",
   "execution_count": 29,
   "id": "cfbbfe59",
   "metadata": {},
   "outputs": [
    {
     "data": {
      "text/plain": [
       "4.677885674856041"
      ]
     },
     "execution_count": 29,
     "metadata": {},
     "output_type": "execute_result"
    }
   ],
   "source": [
    "gmean"
   ]
  },
  {
   "cell_type": "code",
   "execution_count": 30,
   "id": "55cc4410",
   "metadata": {},
   "outputs": [
    {
     "data": {
      "text/plain": [
       "4.67788567485604"
      ]
     },
     "execution_count": 30,
     "metadata": {},
     "output_type": "execute_result"
    }
   ],
   "source": [
    "scipy.stats.gmean(y)"
   ]
  },
  {
   "cell_type": "code",
   "execution_count": 31,
   "id": "cf5a1535",
   "metadata": {},
   "outputs": [
    {
     "data": {
      "text/plain": [
       "4.67788567485604"
      ]
     },
     "execution_count": 31,
     "metadata": {},
     "output_type": "execute_result"
    }
   ],
   "source": [
    "scipy.stats.gmean(z)"
   ]
  },
  {
   "cell_type": "code",
   "execution_count": 32,
   "id": "e45a688c",
   "metadata": {},
   "outputs": [],
   "source": [
    "n = len(x)\n",
    "if n % 2:\n",
    "    median_ = sorted(x)[round(0.5*(n-1))]\n",
    "else:\n",
    "    x_ord, index = sorted(x), round(0.5 * n)\n",
    "    median_ = 0.5 * (x_ord[index-1] + x_ord[index])"
   ]
  },
  {
   "cell_type": "code",
   "execution_count": 33,
   "id": "4aaf7053",
   "metadata": {},
   "outputs": [
    {
     "data": {
      "text/plain": [
       "4"
      ]
     },
     "execution_count": 33,
     "metadata": {},
     "output_type": "execute_result"
    }
   ],
   "source": [
    "median_"
   ]
  },
  {
   "cell_type": "code",
   "execution_count": 34,
   "id": "c1449d18",
   "metadata": {},
   "outputs": [
    {
     "data": {
      "text/plain": [
       "[8.0, 1, 2.5, 4, 28.0]"
      ]
     },
     "execution_count": 34,
     "metadata": {},
     "output_type": "execute_result"
    }
   ],
   "source": [
    "x"
   ]
  },
  {
   "cell_type": "code",
   "execution_count": 35,
   "id": "1fa4f5a0",
   "metadata": {},
   "outputs": [
    {
     "data": {
      "text/plain": [
       "2.5"
      ]
     },
     "execution_count": 35,
     "metadata": {},
     "output_type": "execute_result"
    }
   ],
   "source": [
    "statistics.median_low(x[:-1])"
   ]
  },
  {
   "cell_type": "code",
   "execution_count": 36,
   "id": "845f70e1",
   "metadata": {},
   "outputs": [
    {
     "data": {
      "text/plain": [
       "4"
      ]
     },
     "execution_count": 36,
     "metadata": {},
     "output_type": "execute_result"
    }
   ],
   "source": [
    "statistics.median_high(x[:-1])"
   ]
  },
  {
   "cell_type": "code",
   "execution_count": 38,
   "id": "9c74b02b",
   "metadata": {},
   "outputs": [
    {
     "name": "stdout",
     "output_type": "stream",
     "text": [
      "6.0\n",
      "4\n",
      "8.0\n"
     ]
    }
   ],
   "source": [
    "print(statistics.median(x_with_nan))\n",
    "print(statistics.median_low(x_with_nan))\n",
    "print(statistics.median_high(x_with_nan))"
   ]
  },
  {
   "cell_type": "code",
   "execution_count": 39,
   "id": "326deeea",
   "metadata": {},
   "outputs": [],
   "source": [
    "median_ = np.median(y)"
   ]
  },
  {
   "cell_type": "code",
   "execution_count": 40,
   "id": "f0c52b6d",
   "metadata": {},
   "outputs": [
    {
     "name": "stdout",
     "output_type": "stream",
     "text": [
      "4.0\n"
     ]
    }
   ],
   "source": [
    "print(median_)"
   ]
  },
  {
   "cell_type": "code",
   "execution_count": 41,
   "id": "8386a8e3",
   "metadata": {},
   "outputs": [],
   "source": [
    "median_ = np.median(y[:-1])"
   ]
  },
  {
   "cell_type": "code",
   "execution_count": 42,
   "id": "84db18b5",
   "metadata": {},
   "outputs": [
    {
     "name": "stdout",
     "output_type": "stream",
     "text": [
      "3.25\n"
     ]
    }
   ],
   "source": [
    "print(median_)"
   ]
  },
  {
   "cell_type": "code",
   "execution_count": 43,
   "id": "58f0b6d5",
   "metadata": {},
   "outputs": [],
   "source": [
    "u = [2, 3, 2, 8, 12]\n",
    "v = [12, 15, 12, 15, 21, 15, 12]\n",
    "\n",
    "mode_ = max((u.count(item), item) for item in set(u))[1]"
   ]
  },
  {
   "cell_type": "code",
   "execution_count": 44,
   "id": "624f7995",
   "metadata": {},
   "outputs": [
    {
     "data": {
      "text/plain": [
       "2"
      ]
     },
     "execution_count": 44,
     "metadata": {},
     "output_type": "execute_result"
    }
   ],
   "source": [
    "mode_"
   ]
  },
  {
   "cell_type": "code",
   "execution_count": 45,
   "id": "5c1f7ea4",
   "metadata": {},
   "outputs": [],
   "source": [
    "mode_ = statistics.mode(u)"
   ]
  },
  {
   "cell_type": "code",
   "execution_count": 46,
   "id": "b3d579a4",
   "metadata": {},
   "outputs": [
    {
     "data": {
      "text/plain": [
       "2"
      ]
     },
     "execution_count": 46,
     "metadata": {},
     "output_type": "execute_result"
    }
   ],
   "source": [
    "mode_ "
   ]
  },
  {
   "cell_type": "code",
   "execution_count": 48,
   "id": "c555d398",
   "metadata": {},
   "outputs": [],
   "source": [
    "u, v = np.array(u), np.array(v)\n",
    "\n",
    "mode_ = scipy.stats.mode(u)"
   ]
  },
  {
   "cell_type": "code",
   "execution_count": 49,
   "id": "54d5799a",
   "metadata": {},
   "outputs": [
    {
     "data": {
      "text/plain": [
       "ModeResult(mode=array([2]), count=array([2]))"
      ]
     },
     "execution_count": 49,
     "metadata": {},
     "output_type": "execute_result"
    }
   ],
   "source": [
    "mode_ "
   ]
  },
  {
   "cell_type": "code",
   "execution_count": 50,
   "id": "fb925524",
   "metadata": {},
   "outputs": [],
   "source": [
    "mode_ = scipy.stats.mode(v)"
   ]
  },
  {
   "cell_type": "code",
   "execution_count": 51,
   "id": "90439013",
   "metadata": {},
   "outputs": [
    {
     "data": {
      "text/plain": [
       "ModeResult(mode=array([12]), count=array([3]))"
      ]
     },
     "execution_count": 51,
     "metadata": {},
     "output_type": "execute_result"
    }
   ],
   "source": [
    "mode_"
   ]
  },
  {
   "cell_type": "code",
   "execution_count": 52,
   "id": "89caee3c",
   "metadata": {},
   "outputs": [
    {
     "name": "stdout",
     "output_type": "stream",
     "text": [
      "[12]\n",
      "[3]\n"
     ]
    }
   ],
   "source": [
    "print(mode_.mode)\n",
    "print(mode_.count)"
   ]
  },
  {
   "cell_type": "code",
   "execution_count": 53,
   "id": "49c18d3c",
   "metadata": {},
   "outputs": [],
   "source": [
    "u, v, w = pd.Series(u), pd.Series(v), pd.Series([2, 2, math.nan])"
   ]
  },
  {
   "cell_type": "code",
   "execution_count": 54,
   "id": "aa7b6289",
   "metadata": {},
   "outputs": [
    {
     "name": "stdout",
     "output_type": "stream",
     "text": [
      "0    2\n",
      "dtype: int32\n",
      "0    12\n",
      "1    15\n",
      "dtype: int32\n",
      "0    2.0\n",
      "dtype: float64\n"
     ]
    }
   ],
   "source": [
    "print(u.mode())\n",
    "\n",
    "print(v.mode())\n",
    "\n",
    "print(w.mode())"
   ]
  },
  {
   "cell_type": "code",
   "execution_count": 55,
   "id": "f8686521",
   "metadata": {},
   "outputs": [],
   "source": [
    "n = len(x)\n",
    "\n",
    "mean_ = sum(x) / n\n",
    "\n",
    "var_ = sum((item - mean_)**2 for item in x) / (n - 1)"
   ]
  },
  {
   "cell_type": "code",
   "execution_count": 56,
   "id": "c3d836ae",
   "metadata": {},
   "outputs": [
    {
     "data": {
      "text/plain": [
       "123.19999999999999"
      ]
     },
     "execution_count": 56,
     "metadata": {},
     "output_type": "execute_result"
    }
   ],
   "source": [
    "var_"
   ]
  },
  {
   "cell_type": "code",
   "execution_count": 57,
   "id": "55509594",
   "metadata": {},
   "outputs": [],
   "source": [
    "var_ = statistics.variance(x)"
   ]
  },
  {
   "cell_type": "code",
   "execution_count": 58,
   "id": "ac34884a",
   "metadata": {},
   "outputs": [
    {
     "data": {
      "text/plain": [
       "123.2"
      ]
     },
     "execution_count": 58,
     "metadata": {},
     "output_type": "execute_result"
    }
   ],
   "source": [
    "var_"
   ]
  },
  {
   "cell_type": "code",
   "execution_count": 59,
   "id": "2e7c4c18",
   "metadata": {},
   "outputs": [],
   "source": [
    "var_ = np.var(y, ddof=1)"
   ]
  },
  {
   "cell_type": "code",
   "execution_count": 60,
   "id": "0467a743",
   "metadata": {},
   "outputs": [
    {
     "data": {
      "text/plain": [
       "123.19999999999999"
      ]
     },
     "execution_count": 60,
     "metadata": {},
     "output_type": "execute_result"
    }
   ],
   "source": [
    "var_"
   ]
  },
  {
   "cell_type": "code",
   "execution_count": 61,
   "id": "f7cf1ea1",
   "metadata": {},
   "outputs": [],
   "source": [
    "var_ = y.var(ddof=1)"
   ]
  },
  {
   "cell_type": "code",
   "execution_count": 62,
   "id": "2ea1c335",
   "metadata": {},
   "outputs": [
    {
     "data": {
      "text/plain": [
       "123.19999999999999"
      ]
     },
     "execution_count": 62,
     "metadata": {},
     "output_type": "execute_result"
    }
   ],
   "source": [
    "var_"
   ]
  },
  {
   "cell_type": "code",
   "execution_count": 63,
   "id": "a66e3f95",
   "metadata": {},
   "outputs": [
    {
     "data": {
      "text/plain": [
       "123.19999999999999"
      ]
     },
     "execution_count": 63,
     "metadata": {},
     "output_type": "execute_result"
    }
   ],
   "source": [
    "z.var(ddof=1)"
   ]
  },
  {
   "cell_type": "code",
   "execution_count": 64,
   "id": "c34c9030",
   "metadata": {},
   "outputs": [],
   "source": [
    "std_ = var_ ** 0.5"
   ]
  },
  {
   "cell_type": "code",
   "execution_count": 65,
   "id": "84770890",
   "metadata": {},
   "outputs": [
    {
     "data": {
      "text/plain": [
       "11.099549540409285"
      ]
     },
     "execution_count": 65,
     "metadata": {},
     "output_type": "execute_result"
    }
   ],
   "source": [
    "std_"
   ]
  },
  {
   "cell_type": "code",
   "execution_count": 66,
   "id": "f8a7543b",
   "metadata": {},
   "outputs": [],
   "source": [
    "std_ = statistics.stdev(x)"
   ]
  },
  {
   "cell_type": "code",
   "execution_count": 67,
   "id": "ae2a0e74",
   "metadata": {},
   "outputs": [
    {
     "data": {
      "text/plain": [
       "11.099549540409287"
      ]
     },
     "execution_count": 67,
     "metadata": {},
     "output_type": "execute_result"
    }
   ],
   "source": [
    "std_"
   ]
  },
  {
   "cell_type": "code",
   "execution_count": 68,
   "id": "fd0ce394",
   "metadata": {},
   "outputs": [
    {
     "data": {
      "text/plain": [
       "11.099549540409285"
      ]
     },
     "execution_count": 68,
     "metadata": {},
     "output_type": "execute_result"
    }
   ],
   "source": [
    "np.std(y, ddof=1)"
   ]
  },
  {
   "cell_type": "code",
   "execution_count": 69,
   "id": "88c51cbc",
   "metadata": {},
   "outputs": [
    {
     "data": {
      "text/plain": [
       "11.099549540409285"
      ]
     },
     "execution_count": 69,
     "metadata": {},
     "output_type": "execute_result"
    }
   ],
   "source": [
    "y.std(ddof=1)"
   ]
  },
  {
   "cell_type": "code",
   "execution_count": 70,
   "id": "0f355dce",
   "metadata": {},
   "outputs": [
    {
     "data": {
      "text/plain": [
       "11.099549540409285"
      ]
     },
     "execution_count": 70,
     "metadata": {},
     "output_type": "execute_result"
    }
   ],
   "source": [
    "z.std(ddof=1)"
   ]
  },
  {
   "cell_type": "code",
   "execution_count": 71,
   "id": "aaed1b8e",
   "metadata": {},
   "outputs": [],
   "source": [
    "x = [8.0, 1, 2.5, 4, 28.0]\n",
    "\n",
    "n = len(x)\n",
    "\n",
    "mean_ = sum(x) / n\n",
    "var_ = sum((item - mean_)**2 for item in x) / (n-1)\n",
    "std_ = var_ ** 0.5\n",
    "\n",
    "skew_ = (sum((item - mean_)**3 for item in x) * n / ((n - 1) * (n - 2) * std_**3))"
   ]
  },
  {
   "cell_type": "code",
   "execution_count": 72,
   "id": "5166a265",
   "metadata": {},
   "outputs": [
    {
     "data": {
      "text/plain": [
       "1.9470432273905929"
      ]
     },
     "execution_count": 72,
     "metadata": {},
     "output_type": "execute_result"
    }
   ],
   "source": [
    "skew_"
   ]
  },
  {
   "cell_type": "code",
   "execution_count": 73,
   "id": "c78ef70b",
   "metadata": {},
   "outputs": [
    {
     "data": {
      "text/plain": [
       "1.9470432273905927"
      ]
     },
     "execution_count": 73,
     "metadata": {},
     "output_type": "execute_result"
    }
   ],
   "source": [
    "y, y_with_nan = np.array(x), np.array(x_with_nan)\n",
    "\n",
    "scipy.stats.skew(y, bias=False)"
   ]
  },
  {
   "cell_type": "code",
   "execution_count": 74,
   "id": "b677d36e",
   "metadata": {},
   "outputs": [
    {
     "data": {
      "text/plain": [
       "nan"
      ]
     },
     "execution_count": 74,
     "metadata": {},
     "output_type": "execute_result"
    }
   ],
   "source": [
    "scipy.stats.skew(y_with_nan, bias=False)"
   ]
  },
  {
   "cell_type": "code",
   "execution_count": 75,
   "id": "710bfca3",
   "metadata": {},
   "outputs": [],
   "source": [
    "z, z_with_nan = pd.Series(x), pd.Series(x_with_nan)"
   ]
  },
  {
   "cell_type": "code",
   "execution_count": 76,
   "id": "bcc62d56",
   "metadata": {},
   "outputs": [
    {
     "data": {
      "text/plain": [
       "1.9470432273905924"
      ]
     },
     "execution_count": 76,
     "metadata": {},
     "output_type": "execute_result"
    }
   ],
   "source": [
    "z.skew()"
   ]
  },
  {
   "cell_type": "code",
   "execution_count": 77,
   "id": "fc31c2fc",
   "metadata": {},
   "outputs": [
    {
     "data": {
      "text/plain": [
       "1.9470432273905924"
      ]
     },
     "execution_count": 77,
     "metadata": {},
     "output_type": "execute_result"
    }
   ],
   "source": [
    "z_with_nan.skew()"
   ]
  },
  {
   "cell_type": "code",
   "execution_count": 78,
   "id": "1ec5754a",
   "metadata": {},
   "outputs": [
    {
     "data": {
      "text/plain": [
       "[8.0]"
      ]
     },
     "execution_count": 78,
     "metadata": {},
     "output_type": "execute_result"
    }
   ],
   "source": [
    "x = [-5.0, -1.1, 0.1, 2.0, 8.0, 12.8, 21.0, 25.8, 41.0]\n",
    "statistics.quantiles(x, n=2)"
   ]
  },
  {
   "cell_type": "code",
   "execution_count": 79,
   "id": "66d19873",
   "metadata": {},
   "outputs": [
    {
     "data": {
      "text/plain": [
       "[0.1, 8.0, 21.0]"
      ]
     },
     "execution_count": 79,
     "metadata": {},
     "output_type": "execute_result"
    }
   ],
   "source": [
    "statistics.quantiles(x, n=4, method='inclusive')"
   ]
  },
  {
   "cell_type": "code",
   "execution_count": 81,
   "id": "90fb134f",
   "metadata": {},
   "outputs": [
    {
     "data": {
      "text/plain": [
       "-3.44"
      ]
     },
     "execution_count": 81,
     "metadata": {},
     "output_type": "execute_result"
    }
   ],
   "source": [
    "y = np.array(x)\n",
    "\n",
    "np.percentile(y, 5)"
   ]
  },
  {
   "cell_type": "code",
   "execution_count": 82,
   "id": "29bd8710",
   "metadata": {},
   "outputs": [
    {
     "data": {
      "text/plain": [
       "34.919999999999995"
      ]
     },
     "execution_count": 82,
     "metadata": {},
     "output_type": "execute_result"
    }
   ],
   "source": [
    "np.percentile(y, 95)"
   ]
  },
  {
   "cell_type": "code",
   "execution_count": 83,
   "id": "ca90437c",
   "metadata": {},
   "outputs": [
    {
     "data": {
      "text/plain": [
       "array([ 0.1,  8. , 21. ])"
      ]
     },
     "execution_count": 83,
     "metadata": {},
     "output_type": "execute_result"
    }
   ],
   "source": [
    "np.percentile(y, [25, 50, 75])"
   ]
  },
  {
   "cell_type": "code",
   "execution_count": 84,
   "id": "118dcacc",
   "metadata": {},
   "outputs": [
    {
     "data": {
      "text/plain": [
       "8.0"
      ]
     },
     "execution_count": 84,
     "metadata": {},
     "output_type": "execute_result"
    }
   ],
   "source": [
    "np.median(y)"
   ]
  },
  {
   "cell_type": "code",
   "execution_count": 85,
   "id": "bf9fff9d",
   "metadata": {},
   "outputs": [
    {
     "data": {
      "text/plain": [
       "0.25    2.5\n",
       "0.50    4.0\n",
       "0.75    8.0\n",
       "dtype: float64"
      ]
     },
     "execution_count": 85,
     "metadata": {},
     "output_type": "execute_result"
    }
   ],
   "source": [
    "z.quantile([0.25, 0.5, 0.75])"
   ]
  },
  {
   "cell_type": "code",
   "execution_count": 86,
   "id": "d2ed164f",
   "metadata": {},
   "outputs": [
    {
     "data": {
      "text/plain": [
       "array([ 0.1,  8. , 21. ])"
      ]
     },
     "execution_count": 86,
     "metadata": {},
     "output_type": "execute_result"
    }
   ],
   "source": [
    " np.quantile(y, [0.25, 0.5, 0.75])"
   ]
  },
  {
   "cell_type": "code",
   "execution_count": 87,
   "id": "7bf50565",
   "metadata": {},
   "outputs": [
    {
     "data": {
      "text/plain": [
       "array([2.5, 4. , 8. ])"
      ]
     },
     "execution_count": 87,
     "metadata": {},
     "output_type": "execute_result"
    }
   ],
   "source": [
    "np.nanquantile(y_with_nan, [0.25, 0.5, 0.75])"
   ]
  },
  {
   "cell_type": "code",
   "execution_count": 88,
   "id": "dbd4c577",
   "metadata": {},
   "outputs": [
    {
     "data": {
      "text/plain": [
       "46.0"
      ]
     },
     "execution_count": 88,
     "metadata": {},
     "output_type": "execute_result"
    }
   ],
   "source": [
    "np.ptp(y)"
   ]
  },
  {
   "cell_type": "code",
   "execution_count": 89,
   "id": "d1c73d9d",
   "metadata": {},
   "outputs": [
    {
     "data": {
      "text/plain": [
       "nan"
      ]
     },
     "execution_count": 89,
     "metadata": {},
     "output_type": "execute_result"
    }
   ],
   "source": [
    "np.ptp(y_with_nan)"
   ]
  },
  {
   "cell_type": "code",
   "execution_count": 92,
   "id": "e9e758cc",
   "metadata": {},
   "outputs": [
    {
     "data": {
      "text/plain": [
       "27.0"
      ]
     },
     "execution_count": 92,
     "metadata": {},
     "output_type": "execute_result"
    }
   ],
   "source": [
    "np.ptp(z)"
   ]
  },
  {
   "cell_type": "code",
   "execution_count": 93,
   "id": "900e4043",
   "metadata": {},
   "outputs": [
    {
     "data": {
      "text/plain": [
       "nan"
      ]
     },
     "execution_count": 93,
     "metadata": {},
     "output_type": "execute_result"
    }
   ],
   "source": [
    "np.ptp(z_with_nan)"
   ]
  },
  {
   "cell_type": "code",
   "execution_count": 94,
   "id": "77cff92f",
   "metadata": {},
   "outputs": [
    {
     "data": {
      "text/plain": [
       "46.0"
      ]
     },
     "execution_count": 94,
     "metadata": {},
     "output_type": "execute_result"
    }
   ],
   "source": [
    "np.amax(y) - np.amin(y)"
   ]
  },
  {
   "cell_type": "code",
   "execution_count": 95,
   "id": "9d5d2cc8",
   "metadata": {},
   "outputs": [
    {
     "data": {
      "text/plain": [
       "46.0"
      ]
     },
     "execution_count": 95,
     "metadata": {},
     "output_type": "execute_result"
    }
   ],
   "source": [
    "y.max() - y.min()"
   ]
  },
  {
   "cell_type": "code",
   "execution_count": 96,
   "id": "8a722b02",
   "metadata": {},
   "outputs": [
    {
     "data": {
      "text/plain": [
       "20.9"
      ]
     },
     "execution_count": 96,
     "metadata": {},
     "output_type": "execute_result"
    }
   ],
   "source": [
    "quartiles = np.quantile(y, [0.25, 0.75])\n",
    "quartiles[1] - quartiles[0]"
   ]
  },
  {
   "cell_type": "code",
   "execution_count": 97,
   "id": "29e69a58",
   "metadata": {},
   "outputs": [
    {
     "data": {
      "text/plain": [
       "5.5"
      ]
     },
     "execution_count": 97,
     "metadata": {},
     "output_type": "execute_result"
    }
   ],
   "source": [
    "quartiles = z.quantile([0.25, 0.75])\n",
    "quartiles[0.75] - quartiles[0.25]"
   ]
  },
  {
   "cell_type": "code",
   "execution_count": 98,
   "id": "190a7d70",
   "metadata": {},
   "outputs": [
    {
     "data": {
      "text/plain": [
       "DescribeResult(nobs=9, minmax=(-5.0, 41.0), mean=11.622222222222222, variance=228.75194444444446, skewness=0.9249043136685094, kurtosis=0.14770623629658886)"
      ]
     },
     "execution_count": 98,
     "metadata": {},
     "output_type": "execute_result"
    }
   ],
   "source": [
    "result = scipy.stats.describe(y, ddof=1, bias=False)\n",
    "result"
   ]
  },
  {
   "cell_type": "code",
   "execution_count": 99,
   "id": "6b0ba9cc",
   "metadata": {},
   "outputs": [
    {
     "data": {
      "text/plain": [
       "9"
      ]
     },
     "execution_count": 99,
     "metadata": {},
     "output_type": "execute_result"
    }
   ],
   "source": [
    "result.nobs"
   ]
  },
  {
   "cell_type": "code",
   "execution_count": 100,
   "id": "765b1d92",
   "metadata": {},
   "outputs": [
    {
     "data": {
      "text/plain": [
       "-5.0"
      ]
     },
     "execution_count": 100,
     "metadata": {},
     "output_type": "execute_result"
    }
   ],
   "source": [
    "result.minmax[0]"
   ]
  },
  {
   "cell_type": "code",
   "execution_count": 101,
   "id": "2c292ffb",
   "metadata": {},
   "outputs": [
    {
     "data": {
      "text/plain": [
       "41.0"
      ]
     },
     "execution_count": 101,
     "metadata": {},
     "output_type": "execute_result"
    }
   ],
   "source": [
    "result.minmax[1]  "
   ]
  },
  {
   "cell_type": "code",
   "execution_count": 102,
   "id": "60d46e52",
   "metadata": {},
   "outputs": [
    {
     "data": {
      "text/plain": [
       "11.622222222222222"
      ]
     },
     "execution_count": 102,
     "metadata": {},
     "output_type": "execute_result"
    }
   ],
   "source": [
    "result.mean"
   ]
  },
  {
   "cell_type": "code",
   "execution_count": 103,
   "id": "62d144b4",
   "metadata": {},
   "outputs": [
    {
     "data": {
      "text/plain": [
       "228.75194444444446"
      ]
     },
     "execution_count": 103,
     "metadata": {},
     "output_type": "execute_result"
    }
   ],
   "source": [
    "result.variance"
   ]
  },
  {
   "cell_type": "code",
   "execution_count": 104,
   "id": "67a04f08",
   "metadata": {},
   "outputs": [
    {
     "data": {
      "text/plain": [
       "0.9249043136685094"
      ]
     },
     "execution_count": 104,
     "metadata": {},
     "output_type": "execute_result"
    }
   ],
   "source": [
    "result.skewness"
   ]
  },
  {
   "cell_type": "code",
   "execution_count": 105,
   "id": "f49994c9",
   "metadata": {},
   "outputs": [
    {
     "data": {
      "text/plain": [
       "0.14770623629658886"
      ]
     },
     "execution_count": 105,
     "metadata": {},
     "output_type": "execute_result"
    }
   ],
   "source": [
    "result.kurtosis"
   ]
  },
  {
   "cell_type": "code",
   "execution_count": 106,
   "id": "fa88ffc9",
   "metadata": {},
   "outputs": [],
   "source": [
    "result = z.describe()"
   ]
  },
  {
   "cell_type": "code",
   "execution_count": 107,
   "id": "65e3c8d5",
   "metadata": {},
   "outputs": [
    {
     "data": {
      "text/plain": [
       "count     5.00000\n",
       "mean      8.70000\n",
       "std      11.09955\n",
       "min       1.00000\n",
       "25%       2.50000\n",
       "50%       4.00000\n",
       "75%       8.00000\n",
       "max      28.00000\n",
       "dtype: float64"
      ]
     },
     "execution_count": 107,
     "metadata": {},
     "output_type": "execute_result"
    }
   ],
   "source": [
    "result"
   ]
  },
  {
   "cell_type": "code",
   "execution_count": 108,
   "id": "373d96ff",
   "metadata": {},
   "outputs": [
    {
     "data": {
      "text/plain": [
       "8.7"
      ]
     },
     "execution_count": 108,
     "metadata": {},
     "output_type": "execute_result"
    }
   ],
   "source": [
    "result['mean']"
   ]
  },
  {
   "cell_type": "code",
   "execution_count": 109,
   "id": "ff8a1717",
   "metadata": {},
   "outputs": [
    {
     "data": {
      "text/plain": [
       "11.099549540409285"
      ]
     },
     "execution_count": 109,
     "metadata": {},
     "output_type": "execute_result"
    }
   ],
   "source": [
    "result['std']"
   ]
  },
  {
   "cell_type": "code",
   "execution_count": 110,
   "id": "fbf9bbf0",
   "metadata": {},
   "outputs": [
    {
     "data": {
      "text/plain": [
       "1.0"
      ]
     },
     "execution_count": 110,
     "metadata": {},
     "output_type": "execute_result"
    }
   ],
   "source": [
    "result['min']"
   ]
  },
  {
   "cell_type": "code",
   "execution_count": 111,
   "id": "61251293",
   "metadata": {},
   "outputs": [
    {
     "data": {
      "text/plain": [
       "2.5"
      ]
     },
     "execution_count": 111,
     "metadata": {},
     "output_type": "execute_result"
    }
   ],
   "source": [
    "result['25%']"
   ]
  },
  {
   "cell_type": "code",
   "execution_count": 112,
   "id": "3167c384",
   "metadata": {},
   "outputs": [
    {
     "data": {
      "text/plain": [
       "4.0"
      ]
     },
     "execution_count": 112,
     "metadata": {},
     "output_type": "execute_result"
    }
   ],
   "source": [
    "result['50%']"
   ]
  },
  {
   "cell_type": "code",
   "execution_count": 113,
   "id": "7564271a",
   "metadata": {},
   "outputs": [],
   "source": [
    "x = list(range(-10, 11))\n",
    "y = [0, 2, 2, 2, 2, 3, 3, 6, 7, 4, 7, 6, 6, 9, 4, 5, 5, 10, 11, 12, 14]\n",
    "x_, y_ = np.array(x), np.array(y)\n",
    "x__, y__ = pd.Series(x_), pd.Series(y_)"
   ]
  },
  {
   "cell_type": "code",
   "execution_count": 115,
   "id": "b5b2a7b1",
   "metadata": {},
   "outputs": [
    {
     "data": {
      "text/plain": [
       "19.95"
      ]
     },
     "execution_count": 115,
     "metadata": {},
     "output_type": "execute_result"
    }
   ],
   "source": [
    "n = len(x)\n",
    "mean_x, mean_y = sum(x) / n, sum(y) / n\n",
    "cov_xy = (sum((x[k] - mean_x) * (y[k] - mean_y) for k in range(n)) / (n - 1))\n",
    "cov_xy"
   ]
  },
  {
   "cell_type": "code",
   "execution_count": 116,
   "id": "cadd15e6",
   "metadata": {},
   "outputs": [
    {
     "data": {
      "text/plain": [
       "array([[38.5       , 19.95      ],\n",
       "       [19.95      , 13.91428571]])"
      ]
     },
     "execution_count": 116,
     "metadata": {},
     "output_type": "execute_result"
    }
   ],
   "source": [
    "cov_matrix = np.cov(x_, y_)\n",
    "cov_matrix"
   ]
  },
  {
   "cell_type": "code",
   "execution_count": 117,
   "id": "f20270f8",
   "metadata": {},
   "outputs": [
    {
     "data": {
      "text/plain": [
       "0.861950005631606"
      ]
     },
     "execution_count": 117,
     "metadata": {},
     "output_type": "execute_result"
    }
   ],
   "source": [
    "var_x = sum((item - mean_x)**2 for item in x) / (n - 1)\n",
    "var_y = sum((item - mean_y)**2 for item in y) / (n - 1)\n",
    "std_x, std_y = var_x ** 0.5, var_y ** 0.5\n",
    "r = cov_xy / (std_x * std_y)\n",
    "r"
   ]
  },
  {
   "cell_type": "code",
   "execution_count": 118,
   "id": "ed41b2e1",
   "metadata": {},
   "outputs": [
    {
     "data": {
      "text/plain": [
       "0.861950005631606"
      ]
     },
     "execution_count": 118,
     "metadata": {},
     "output_type": "execute_result"
    }
   ],
   "source": [
    "r, p = scipy.stats.pearsonr(x_, y_)\n",
    "r"
   ]
  },
  {
   "cell_type": "code",
   "execution_count": 119,
   "id": "f3e249ed",
   "metadata": {},
   "outputs": [
    {
     "data": {
      "text/plain": [
       "5.122760847201171e-07"
      ]
     },
     "execution_count": 119,
     "metadata": {},
     "output_type": "execute_result"
    }
   ],
   "source": [
    "p"
   ]
  },
  {
   "cell_type": "code",
   "execution_count": 120,
   "id": "e36843b7",
   "metadata": {},
   "outputs": [
    {
     "data": {
      "text/plain": [
       "array([[1.        , 0.86195001],\n",
       "       [0.86195001, 1.        ]])"
      ]
     },
     "execution_count": 120,
     "metadata": {},
     "output_type": "execute_result"
    }
   ],
   "source": [
    "corr_matrix = np.corrcoef(x_, y_)\n",
    "corr_matrix"
   ]
  },
  {
   "cell_type": "code",
   "execution_count": 122,
   "id": "4a391de8",
   "metadata": {},
   "outputs": [
    {
     "data": {
      "text/plain": [
       "0.8619500056316061"
      ]
     },
     "execution_count": 122,
     "metadata": {},
     "output_type": "execute_result"
    }
   ],
   "source": [
    "r = corr_matrix[0, 1]\n",
    "r"
   ]
  },
  {
   "cell_type": "code",
   "execution_count": 123,
   "id": "beeb4fec",
   "metadata": {},
   "outputs": [
    {
     "data": {
      "text/plain": [
       "LinregressResult(slope=0.5181818181818181, intercept=5.714285714285714, rvalue=0.861950005631606, pvalue=5.122760847201164e-07, stderr=0.06992387660074979, intercept_stderr=0.4234100995002589)"
      ]
     },
     "execution_count": 123,
     "metadata": {},
     "output_type": "execute_result"
    }
   ],
   "source": [
    "scipy.stats.linregress(x_, y_)"
   ]
  },
  {
   "cell_type": "code",
   "execution_count": 124,
   "id": "e489f0b2",
   "metadata": {},
   "outputs": [
    {
     "data": {
      "text/plain": [
       "0.861950005631606"
      ]
     },
     "execution_count": 124,
     "metadata": {},
     "output_type": "execute_result"
    }
   ],
   "source": [
    "result = scipy.stats.linregress(x_, y_)\n",
    "r = result.rvalue\n",
    "r"
   ]
  },
  {
   "cell_type": "code",
   "execution_count": 125,
   "id": "c89d5d98",
   "metadata": {},
   "outputs": [
    {
     "data": {
      "text/plain": [
       "0.8619500056316061"
      ]
     },
     "execution_count": 125,
     "metadata": {},
     "output_type": "execute_result"
    }
   ],
   "source": [
    "r = x__.corr(y__)\n",
    "r"
   ]
  },
  {
   "cell_type": "code",
   "execution_count": 126,
   "id": "7e4882be",
   "metadata": {},
   "outputs": [],
   "source": [
    "a = np.array([[1, 1, 1],\n",
    "              [2, 3, 1],\n",
    "              [4, 9, 2],\n",
    "              [8, 27, 4],\n",
    "              [16, 1, 1]])"
   ]
  },
  {
   "cell_type": "code",
   "execution_count": 127,
   "id": "bddcc020",
   "metadata": {},
   "outputs": [
    {
     "data": {
      "text/plain": [
       "array([[ 1,  1,  1],\n",
       "       [ 2,  3,  1],\n",
       "       [ 4,  9,  2],\n",
       "       [ 8, 27,  4],\n",
       "       [16,  1,  1]])"
      ]
     },
     "execution_count": 127,
     "metadata": {},
     "output_type": "execute_result"
    }
   ],
   "source": [
    "a"
   ]
  },
  {
   "cell_type": "code",
   "execution_count": 128,
   "id": "a0a1b3ed",
   "metadata": {},
   "outputs": [
    {
     "data": {
      "text/plain": [
       "5.4"
      ]
     },
     "execution_count": 128,
     "metadata": {},
     "output_type": "execute_result"
    }
   ],
   "source": [
    "a.mean()"
   ]
  },
  {
   "cell_type": "code",
   "execution_count": 129,
   "id": "35fc18fd",
   "metadata": {},
   "outputs": [
    {
     "data": {
      "text/plain": [
       "2.0"
      ]
     },
     "execution_count": 129,
     "metadata": {},
     "output_type": "execute_result"
    }
   ],
   "source": [
    "np.median(a)"
   ]
  },
  {
   "cell_type": "code",
   "execution_count": 130,
   "id": "41a01a7b",
   "metadata": {},
   "outputs": [
    {
     "data": {
      "text/plain": [
       "53.40000000000001"
      ]
     },
     "execution_count": 130,
     "metadata": {},
     "output_type": "execute_result"
    }
   ],
   "source": [
    "a.var(ddof=1)"
   ]
  },
  {
   "cell_type": "code",
   "execution_count": 131,
   "id": "cc785318",
   "metadata": {},
   "outputs": [
    {
     "data": {
      "text/plain": [
       "array([6.2, 8.2, 1.8])"
      ]
     },
     "execution_count": 131,
     "metadata": {},
     "output_type": "execute_result"
    }
   ],
   "source": [
    "np.mean(a, axis=0)"
   ]
  },
  {
   "cell_type": "code",
   "execution_count": 132,
   "id": "cd9f2543",
   "metadata": {},
   "outputs": [
    {
     "data": {
      "text/plain": [
       "array([ 1.,  2.,  5., 13.,  6.])"
      ]
     },
     "execution_count": 132,
     "metadata": {},
     "output_type": "execute_result"
    }
   ],
   "source": [
    "a.mean(axis=1)"
   ]
  },
  {
   "cell_type": "code",
   "execution_count": 133,
   "id": "2afab317",
   "metadata": {},
   "outputs": [
    {
     "data": {
      "text/html": [
       "<div>\n",
       "<style scoped>\n",
       "    .dataframe tbody tr th:only-of-type {\n",
       "        vertical-align: middle;\n",
       "    }\n",
       "\n",
       "    .dataframe tbody tr th {\n",
       "        vertical-align: top;\n",
       "    }\n",
       "\n",
       "    .dataframe thead th {\n",
       "        text-align: right;\n",
       "    }\n",
       "</style>\n",
       "<table border=\"1\" class=\"dataframe\">\n",
       "  <thead>\n",
       "    <tr style=\"text-align: right;\">\n",
       "      <th></th>\n",
       "      <th>A</th>\n",
       "      <th>B</th>\n",
       "      <th>C</th>\n",
       "    </tr>\n",
       "  </thead>\n",
       "  <tbody>\n",
       "    <tr>\n",
       "      <th>first</th>\n",
       "      <td>1</td>\n",
       "      <td>1</td>\n",
       "      <td>1</td>\n",
       "    </tr>\n",
       "    <tr>\n",
       "      <th>second</th>\n",
       "      <td>2</td>\n",
       "      <td>3</td>\n",
       "      <td>1</td>\n",
       "    </tr>\n",
       "    <tr>\n",
       "      <th>third</th>\n",
       "      <td>4</td>\n",
       "      <td>9</td>\n",
       "      <td>2</td>\n",
       "    </tr>\n",
       "    <tr>\n",
       "      <th>fourth</th>\n",
       "      <td>8</td>\n",
       "      <td>27</td>\n",
       "      <td>4</td>\n",
       "    </tr>\n",
       "    <tr>\n",
       "      <th>fifth</th>\n",
       "      <td>16</td>\n",
       "      <td>1</td>\n",
       "      <td>1</td>\n",
       "    </tr>\n",
       "  </tbody>\n",
       "</table>\n",
       "</div>"
      ],
      "text/plain": [
       "         A   B  C\n",
       "first    1   1  1\n",
       "second   2   3  1\n",
       "third    4   9  2\n",
       "fourth   8  27  4\n",
       "fifth   16   1  1"
      ]
     },
     "execution_count": 133,
     "metadata": {},
     "output_type": "execute_result"
    }
   ],
   "source": [
    "row_names = ['first', 'second', 'third', 'fourth', 'fifth']\n",
    "col_names = ['A', 'B', 'C']\n",
    "df = pd.DataFrame(a, index=row_names, columns=col_names)\n",
    "df"
   ]
  },
  {
   "cell_type": "code",
   "execution_count": 134,
   "id": "d1c952a6",
   "metadata": {},
   "outputs": [
    {
     "data": {
      "text/plain": [
       "A    6.2\n",
       "B    8.2\n",
       "C    1.8\n",
       "dtype: float64"
      ]
     },
     "execution_count": 134,
     "metadata": {},
     "output_type": "execute_result"
    }
   ],
   "source": [
    "df.mean()"
   ]
  },
  {
   "cell_type": "code",
   "execution_count": 135,
   "id": "1e4b5a40",
   "metadata": {},
   "outputs": [
    {
     "data": {
      "text/plain": [
       "first      1.0\n",
       "second     2.0\n",
       "third      5.0\n",
       "fourth    13.0\n",
       "fifth      6.0\n",
       "dtype: float64"
      ]
     },
     "execution_count": 135,
     "metadata": {},
     "output_type": "execute_result"
    }
   ],
   "source": [
    "df.mean(axis=1)"
   ]
  },
  {
   "cell_type": "code",
   "execution_count": 136,
   "id": "75bca493",
   "metadata": {},
   "outputs": [
    {
     "data": {
      "text/html": [
       "<div>\n",
       "<style scoped>\n",
       "    .dataframe tbody tr th:only-of-type {\n",
       "        vertical-align: middle;\n",
       "    }\n",
       "\n",
       "    .dataframe tbody tr th {\n",
       "        vertical-align: top;\n",
       "    }\n",
       "\n",
       "    .dataframe thead th {\n",
       "        text-align: right;\n",
       "    }\n",
       "</style>\n",
       "<table border=\"1\" class=\"dataframe\">\n",
       "  <thead>\n",
       "    <tr style=\"text-align: right;\">\n",
       "      <th></th>\n",
       "      <th>A</th>\n",
       "      <th>B</th>\n",
       "      <th>C</th>\n",
       "    </tr>\n",
       "  </thead>\n",
       "  <tbody>\n",
       "    <tr>\n",
       "      <th>count</th>\n",
       "      <td>5.00000</td>\n",
       "      <td>5.000000</td>\n",
       "      <td>5.00000</td>\n",
       "    </tr>\n",
       "    <tr>\n",
       "      <th>mean</th>\n",
       "      <td>6.20000</td>\n",
       "      <td>8.200000</td>\n",
       "      <td>1.80000</td>\n",
       "    </tr>\n",
       "    <tr>\n",
       "      <th>std</th>\n",
       "      <td>6.09918</td>\n",
       "      <td>11.009087</td>\n",
       "      <td>1.30384</td>\n",
       "    </tr>\n",
       "    <tr>\n",
       "      <th>min</th>\n",
       "      <td>1.00000</td>\n",
       "      <td>1.000000</td>\n",
       "      <td>1.00000</td>\n",
       "    </tr>\n",
       "    <tr>\n",
       "      <th>25%</th>\n",
       "      <td>2.00000</td>\n",
       "      <td>1.000000</td>\n",
       "      <td>1.00000</td>\n",
       "    </tr>\n",
       "    <tr>\n",
       "      <th>50%</th>\n",
       "      <td>4.00000</td>\n",
       "      <td>3.000000</td>\n",
       "      <td>1.00000</td>\n",
       "    </tr>\n",
       "    <tr>\n",
       "      <th>75%</th>\n",
       "      <td>8.00000</td>\n",
       "      <td>9.000000</td>\n",
       "      <td>2.00000</td>\n",
       "    </tr>\n",
       "    <tr>\n",
       "      <th>max</th>\n",
       "      <td>16.00000</td>\n",
       "      <td>27.000000</td>\n",
       "      <td>4.00000</td>\n",
       "    </tr>\n",
       "  </tbody>\n",
       "</table>\n",
       "</div>"
      ],
      "text/plain": [
       "              A          B        C\n",
       "count   5.00000   5.000000  5.00000\n",
       "mean    6.20000   8.200000  1.80000\n",
       "std     6.09918  11.009087  1.30384\n",
       "min     1.00000   1.000000  1.00000\n",
       "25%     2.00000   1.000000  1.00000\n",
       "50%     4.00000   3.000000  1.00000\n",
       "75%     8.00000   9.000000  2.00000\n",
       "max    16.00000  27.000000  4.00000"
      ]
     },
     "execution_count": 136,
     "metadata": {},
     "output_type": "execute_result"
    }
   ],
   "source": [
    "df.describe()"
   ]
  },
  {
   "cell_type": "code",
   "execution_count": null,
   "id": "af20f22c",
   "metadata": {},
   "outputs": [],
   "source": []
  }
 ],
 "metadata": {
  "kernelspec": {
   "display_name": "Python 3",
   "language": "python",
   "name": "python3"
  },
  "language_info": {
   "codemirror_mode": {
    "name": "ipython",
    "version": 3
   },
   "file_extension": ".py",
   "mimetype": "text/x-python",
   "name": "python",
   "nbconvert_exporter": "python",
   "pygments_lexer": "ipython3",
   "version": "3.8.8"
  }
 },
 "nbformat": 4,
 "nbformat_minor": 5
}
