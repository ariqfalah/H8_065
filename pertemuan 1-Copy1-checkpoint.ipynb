{
 "cells": [
  {
   "cell_type": "markdown",
   "id": "6b416498",
   "metadata": {},
   "source": [
    "SESI 1"
   ]
  },
  {
   "cell_type": "code",
   "execution_count": 17,
   "id": "775773f3",
   "metadata": {},
   "outputs": [
    {
     "name": "stdout",
     "output_type": "stream",
     "text": [
      "300\n"
     ]
    }
   ],
   "source": [
    "n = 300\n",
    "print(n)"
   ]
  },
  {
   "cell_type": "code",
   "execution_count": 40,
   "id": "f71d44c6",
   "metadata": {},
   "outputs": [],
   "source": [
    "a=b=c= 300"
   ]
  },
  {
   "cell_type": "code",
   "execution_count": 45,
   "id": "f2a05393",
   "metadata": {},
   "outputs": [
    {
     "name": "stdout",
     "output_type": "stream",
     "text": [
      "300\n"
     ]
    }
   ],
   "source": [
    "print (a+b-c)"
   ]
  },
  {
   "cell_type": "code",
   "execution_count": 19,
   "id": "b5c8f5c8",
   "metadata": {},
   "outputs": [
    {
     "name": "stdout",
     "output_type": "stream",
     "text": [
      "600\n"
     ]
    }
   ],
   "source": [
    "print (a+b)"
   ]
  },
  {
   "cell_type": "code",
   "execution_count": 31,
   "id": "c3ae817f",
   "metadata": {},
   "outputs": [
    {
     "name": "stdout",
     "output_type": "stream",
     "text": [
      "bola: 300\n"
     ]
    }
   ],
   "source": [
    "print ( \"bola:\", a)"
   ]
  },
  {
   "cell_type": "code",
   "execution_count": 39,
   "id": "eec512e7",
   "metadata": {},
   "outputs": [
    {
     "name": "stdout",
     "output_type": "stream",
     "text": [
      "300 300\n"
     ]
    }
   ],
   "source": [
    "print(a+' '+b)"
   ]
  },
  {
   "cell_type": "code",
   "execution_count": 42,
   "id": "7574fa3f",
   "metadata": {},
   "outputs": [
    {
     "name": "stdout",
     "output_type": "stream",
     "text": [
      "True\n",
      "False\n",
      "True\n"
     ]
    }
   ],
   "source": [
    "print (a==b)\n",
    "print (a!=b)\n",
    "print (a<=b)"
   ]
  },
  {
   "cell_type": "code",
   "execution_count": 44,
   "id": "bcca75c0",
   "metadata": {},
   "outputs": [
    {
     "name": "stdout",
     "output_type": "stream",
     "text": [
      "55\n"
     ]
    }
   ],
   "source": [
    "nilai = [15, 25, 35, 45, 55]\n",
    "print (nilai[-1])"
   ]
  },
  {
   "cell_type": "code",
   "execution_count": 57,
   "id": "c743c091",
   "metadata": {},
   "outputs": [
    {
     "name": "stdout",
     "output_type": "stream",
     "text": [
      "['nanas', 'pisang']\n"
     ]
    }
   ],
   "source": [
    "buah = [ 'apel', 'jeruk', 'nanas', 'pisang']\n",
    "print (buah [2:4])"
   ]
  },
  {
   "cell_type": "code",
   "execution_count": 49,
   "id": "5c8b9744",
   "metadata": {},
   "outputs": [
    {
     "name": "stdout",
     "output_type": "stream",
     "text": [
      "4\n"
     ]
    }
   ],
   "source": [
    "print (len(buah))"
   ]
  },
  {
   "cell_type": "code",
   "execution_count": 58,
   "id": "be8b5329",
   "metadata": {},
   "outputs": [
    {
     "name": "stdout",
     "output_type": "stream",
     "text": [
      "mayan\n"
     ]
    }
   ],
   "source": [
    "if (len(buah)<=3 ):\n",
    "    print  (\"kurang\")\n",
    "else :\n",
    "    print (\"mayan\")"
   ]
  },
  {
   "cell_type": "code",
   "execution_count": 53,
   "id": "72d58d2c",
   "metadata": {},
   "outputs": [
    {
     "name": "stdout",
     "output_type": "stream",
     "text": [
      "<class 'list'>\n"
     ]
    }
   ],
   "source": [
    "print (type(buah))"
   ]
  },
  {
   "cell_type": "code",
   "execution_count": 61,
   "id": "1a8e0fc3",
   "metadata": {},
   "outputs": [
    {
     "name": "stdout",
     "output_type": "stream",
     "text": [
      "nanas\n"
     ]
    }
   ],
   "source": [
    "print (buah[2])"
   ]
  },
  {
   "cell_type": "code",
   "execution_count": 62,
   "id": "4b5b6805",
   "metadata": {},
   "outputs": [],
   "source": [
    "del buah[3] "
   ]
  },
  {
   "cell_type": "code",
   "execution_count": 63,
   "id": "3c9d28a6",
   "metadata": {},
   "outputs": [
    {
     "name": "stdout",
     "output_type": "stream",
     "text": [
      "['apel', 'jeruk', 'nanas']\n"
     ]
    }
   ],
   "source": [
    "print (buah)"
   ]
  },
  {
   "cell_type": "code",
   "execution_count": 65,
   "id": "984ba968",
   "metadata": {},
   "outputs": [
    {
     "name": "stdout",
     "output_type": "stream",
     "text": [
      "[10, 25, 45, 55]\n"
     ]
    }
   ],
   "source": [
    "nilai = [15, 25, 35, 45, 55]\n",
    "nilai [0] = 10\n",
    "del nilai[2]\n",
    "print (nilai)"
   ]
  },
  {
   "cell_type": "code",
   "execution_count": 70,
   "id": "cac61b7b",
   "metadata": {},
   "outputs": [
    {
     "name": "stdout",
     "output_type": "stream",
     "text": [
      "gungson 15\n"
     ]
    }
   ],
   "source": [
    "mahluk = {\n",
    "    'nama' : 'gungson',\n",
    "    'umur': '15'\n",
    "    \n",
    "}\n",
    "print (mahluk['nama'],(mahluk['umur']))"
   ]
  },
  {
   "cell_type": "code",
   "execution_count": 71,
   "id": "8467be23",
   "metadata": {},
   "outputs": [
    {
     "name": "stdout",
     "output_type": "stream",
     "text": [
      "{'nama': 'gungson', 'umur': '15'}\n"
     ]
    }
   ],
   "source": [
    "print(mahluk)"
   ]
  },
  {
   "cell_type": "code",
   "execution_count": 73,
   "id": "cd964544",
   "metadata": {},
   "outputs": [
    {
     "name": "stdout",
     "output_type": "stream",
     "text": [
      "dict_items([('nama', 'gungson'), ('umur', '15')])\n"
     ]
    }
   ],
   "source": [
    "print(mahluk.items())"
   ]
  },
  {
   "cell_type": "code",
   "execution_count": 74,
   "id": "7176ea8d",
   "metadata": {},
   "outputs": [
    {
     "data": {
      "text/plain": [
       "True"
      ]
     },
     "execution_count": 74,
     "metadata": {},
     "output_type": "execute_result"
    }
   ],
   "source": [
    "orang1_age = 10\n",
    "orang2_age = 15\n",
    "orang3_age = 25\n",
    "\n",
    "orang1_age <= orang2_age"
   ]
  },
  {
   "cell_type": "code",
   "execution_count": null,
   "id": "7e9e2e1c",
   "metadata": {},
   "outputs": [],
   "source": []
  }
 ],
 "metadata": {
  "kernelspec": {
   "display_name": "Python 3",
   "language": "python",
   "name": "python3"
  },
  "language_info": {
   "codemirror_mode": {
    "name": "ipython",
    "version": 3
   },
   "file_extension": ".py",
   "mimetype": "text/x-python",
   "name": "python",
   "nbconvert_exporter": "python",
   "pygments_lexer": "ipython3",
   "version": "3.8.8"
  }
 },
 "nbformat": 4,
 "nbformat_minor": 5
}
