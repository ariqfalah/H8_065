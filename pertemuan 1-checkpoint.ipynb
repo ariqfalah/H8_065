{
 "cells": [
  {
   "cell_type": "markdown",
   "id": "d39f65bb",
   "metadata": {},
   "source": [
    "SESI 1"
   ]
  },
  {
   "cell_type": "code",
   "execution_count": 17,
   "id": "d8b1e3c3",
   "metadata": {},
   "outputs": [
    {
     "name": "stdout",
     "output_type": "stream",
     "text": [
      "300\n"
     ]
    }
   ],
   "source": [
    "n = 300\n",
    "print(n)"
   ]
  },
  {
   "cell_type": "code",
   "execution_count": 40,
   "id": "0de18d74",
   "metadata": {},
   "outputs": [],
   "source": [
    "a=b=c= 300"
   ]
  },
  {
   "cell_type": "code",
   "execution_count": 45,
   "id": "6b0c84bb",
   "metadata": {},
   "outputs": [
    {
     "name": "stdout",
     "output_type": "stream",
     "text": [
      "300\n"
     ]
    }
   ],
   "source": [
    "print (a+b-c)"
   ]
  },
  {
   "cell_type": "code",
   "execution_count": 19,
   "id": "3a0d95c8",
   "metadata": {},
   "outputs": [
    {
     "name": "stdout",
     "output_type": "stream",
     "text": [
      "600\n"
     ]
    }
   ],
   "source": [
    "print (a+b)"
   ]
  },
  {
   "cell_type": "code",
   "execution_count": 31,
   "id": "131fbcdb",
   "metadata": {},
   "outputs": [
    {
     "name": "stdout",
     "output_type": "stream",
     "text": [
      "bola: 300\n"
     ]
    }
   ],
   "source": [
    "print ( \"bola:\", a)"
   ]
  },
  {
   "cell_type": "code",
   "execution_count": 39,
   "id": "9e5cff6e",
   "metadata": {},
   "outputs": [
    {
     "name": "stdout",
     "output_type": "stream",
     "text": [
      "300 300\n"
     ]
    }
   ],
   "source": [
    "print(a+' '+b)"
   ]
  },
  {
   "cell_type": "code",
   "execution_count": 42,
   "id": "68d2eecb",
   "metadata": {},
   "outputs": [
    {
     "name": "stdout",
     "output_type": "stream",
     "text": [
      "True\n",
      "False\n",
      "True\n"
     ]
    }
   ],
   "source": [
    "print (a==b)\n",
    "print (a!=b)\n",
    "print (a<=b)"
   ]
  },
  {
   "cell_type": "code",
   "execution_count": 44,
   "id": "279a5a87",
   "metadata": {},
   "outputs": [
    {
     "name": "stdout",
     "output_type": "stream",
     "text": [
      "55\n"
     ]
    }
   ],
   "source": [
    "nilai = [15, 25, 35, 45, 55]\n",
    "print (nilai[-1])"
   ]
  },
  {
   "cell_type": "code",
   "execution_count": 57,
   "id": "12d702e7",
   "metadata": {},
   "outputs": [
    {
     "name": "stdout",
     "output_type": "stream",
     "text": [
      "['nanas', 'pisang']\n"
     ]
    }
   ],
   "source": [
    "buah = [ 'apel', 'jeruk', 'nanas', 'pisang']\n",
    "print (buah [2:4])"
   ]
  },
  {
   "cell_type": "code",
   "execution_count": 49,
   "id": "2adb315d",
   "metadata": {},
   "outputs": [
    {
     "name": "stdout",
     "output_type": "stream",
     "text": [
      "4\n"
     ]
    }
   ],
   "source": [
    "print (len(buah))"
   ]
  },
  {
   "cell_type": "code",
   "execution_count": 58,
   "id": "0a28dd07",
   "metadata": {},
   "outputs": [
    {
     "name": "stdout",
     "output_type": "stream",
     "text": [
      "mayan\n"
     ]
    }
   ],
   "source": [
    "if (len(buah)<=3 ):\n",
    "    print  (\"kurang\")\n",
    "else :\n",
    "    print (\"mayan\")"
   ]
  },
  {
   "cell_type": "code",
   "execution_count": 53,
   "id": "a038ad15",
   "metadata": {},
   "outputs": [
    {
     "name": "stdout",
     "output_type": "stream",
     "text": [
      "<class 'list'>\n"
     ]
    }
   ],
   "source": [
    "print (type(buah))"
   ]
  },
  {
   "cell_type": "code",
   "execution_count": 61,
   "id": "93020498",
   "metadata": {},
   "outputs": [
    {
     "name": "stdout",
     "output_type": "stream",
     "text": [
      "nanas\n"
     ]
    }
   ],
   "source": [
    "print (buah[2])"
   ]
  },
  {
   "cell_type": "code",
   "execution_count": 62,
   "id": "1ddd00f3",
   "metadata": {},
   "outputs": [],
   "source": [
    "del buah[3] "
   ]
  },
  {
   "cell_type": "code",
   "execution_count": 63,
   "id": "3b1937d0",
   "metadata": {},
   "outputs": [
    {
     "name": "stdout",
     "output_type": "stream",
     "text": [
      "['apel', 'jeruk', 'nanas']\n"
     ]
    }
   ],
   "source": [
    "print (buah)"
   ]
  },
  {
   "cell_type": "code",
   "execution_count": 65,
   "id": "4e296840",
   "metadata": {},
   "outputs": [
    {
     "name": "stdout",
     "output_type": "stream",
     "text": [
      "[10, 25, 45, 55]\n"
     ]
    }
   ],
   "source": [
    "nilai = [15, 25, 35, 45, 55]\n",
    "nilai [0] = 10\n",
    "del nilai[2]\n",
    "print (nilai)"
   ]
  },
  {
   "cell_type": "code",
   "execution_count": 70,
   "id": "e21117f0",
   "metadata": {},
   "outputs": [
    {
     "name": "stdout",
     "output_type": "stream",
     "text": [
      "gungson 15\n"
     ]
    }
   ],
   "source": [
    "mahluk = {\n",
    "    'nama' : 'gungson',\n",
    "    'umur': '15'\n",
    "    \n",
    "}\n",
    "print (mahluk['nama'],(mahluk['umur']))"
   ]
  },
  {
   "cell_type": "code",
   "execution_count": 71,
   "id": "311a105f",
   "metadata": {},
   "outputs": [
    {
     "name": "stdout",
     "output_type": "stream",
     "text": [
      "{'nama': 'gungson', 'umur': '15'}\n"
     ]
    }
   ],
   "source": [
    "print(mahluk)"
   ]
  },
  {
   "cell_type": "code",
   "execution_count": 73,
   "id": "705813c3",
   "metadata": {},
   "outputs": [
    {
     "name": "stdout",
     "output_type": "stream",
     "text": [
      "dict_items([('nama', 'gungson'), ('umur', '15')])\n"
     ]
    }
   ],
   "source": [
    "print(mahluk.items())"
   ]
  },
  {
   "cell_type": "code",
   "execution_count": 74,
   "id": "27b36525",
   "metadata": {},
   "outputs": [
    {
     "data": {
      "text/plain": [
       "True"
      ]
     },
     "execution_count": 74,
     "metadata": {},
     "output_type": "execute_result"
    }
   ],
   "source": [
    "orang1_age = 10\n",
    "orang2_age = 15\n",
    "orang3_age = 25\n",
    "\n",
    "orang1_age <= orang2_age"
   ]
  },
  {
   "cell_type": "code",
   "execution_count": null,
   "id": "818eb87e",
   "metadata": {},
   "outputs": [],
   "source": []
  }
 ],
 "metadata": {
  "kernelspec": {
   "display_name": "Python 3",
   "language": "python",
   "name": "python3"
  },
  "language_info": {
   "codemirror_mode": {
    "name": "ipython",
    "version": 3
   },
   "file_extension": ".py",
   "mimetype": "text/x-python",
   "name": "python",
   "nbconvert_exporter": "python",
   "pygments_lexer": "ipython3",
   "version": "3.8.8"
  }
 },
 "nbformat": 4,
 "nbformat_minor": 5
}
