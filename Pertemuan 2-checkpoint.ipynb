{
 "cells": [
  {
   "cell_type": "markdown",
   "id": "afbb2d81",
   "metadata": {},
   "source": [
    "Pertemuan 2"
   ]
  },
  {
   "cell_type": "code",
   "execution_count": 3,
   "id": "6df6a36c",
   "metadata": {},
   "outputs": [
    {
     "name": "stdout",
     "output_type": "stream",
     "text": [
      "yes\n"
     ]
    }
   ],
   "source": [
    "if 'ali' in 'Bali':\n",
    "    print ('yes')"
   ]
  },
  {
   "cell_type": "code",
   "execution_count": 2,
   "id": "145048d0",
   "metadata": {},
   "outputs": [
    {
     "name": "stdout",
     "output_type": "stream",
     "text": [
      "yes\n"
     ]
    }
   ],
   "source": [
    "x = 1\n",
    "y = 6\n",
    "\n",
    "if x < y :\n",
    "    print ('yes')"
   ]
  },
  {
   "cell_type": "code",
   "execution_count": 3,
   "id": "bc23f7a0",
   "metadata": {},
   "outputs": [
    {
     "name": "stdout",
     "output_type": "stream",
     "text": [
      "(first suite)\n",
      "x is small\n"
     ]
    }
   ],
   "source": [
    "x = 10\n",
    "\n",
    "if x < 50 :\n",
    "    print ('(first suite)')\n",
    "    print ('x is small')"
   ]
  },
  {
   "cell_type": "code",
   "execution_count": 9,
   "id": "1e1e16db",
   "metadata": {},
   "outputs": [
    {
     "name": "stdout",
     "output_type": "stream",
     "text": [
      "(second suite)\n",
      "x is large\n"
     ]
    }
   ],
   "source": [
    "x = 70\n",
    "\n",
    "if x < 50 :\n",
    "    print ('(first suite)')\n",
    "    print ('x is small')\n",
    "else :\n",
    "    print ('(second suite)')\n",
    "    print ('x is large')"
   ]
  },
  {
   "cell_type": "code",
   "execution_count": 10,
   "id": "f8d3f469",
   "metadata": {},
   "outputs": [
    {
     "name": "stdout",
     "output_type": "stream",
     "text": [
      "pulang\n"
     ]
    }
   ],
   "source": [
    "BukuTulis = 10000\n",
    "BukuGambar = 5000\n",
    "uang = 3000\n",
    "\n",
    "if uang > BukuTulis:\n",
    "    print ('beli buku')\n",
    "elif uang > BukuGambar :\n",
    "    print ('beli kertas')\n",
    "else:\n",
    "    print ('pulang')"
   ]
  },
  {
   "cell_type": "code",
   "execution_count": 12,
   "id": "b32c1b47",
   "metadata": {},
   "outputs": [
    {
     "name": "stdout",
     "output_type": "stream",
     "text": [
      "hello Hactiv\n"
     ]
    }
   ],
   "source": [
    "name = 'Hactiv'\n",
    "if name == 'Hactiv':\n",
    "    print ('hello '+ name)"
   ]
  },
  {
   "cell_type": "code",
   "execution_count": 19,
   "id": "b4b68f25",
   "metadata": {},
   "outputs": [
    {
     "name": "stdout",
     "output_type": "stream",
     "text": [
      "x\n",
      "y\n"
     ]
    }
   ],
   "source": [
    "x = 1\n",
    "\n",
    "if x == 1: print ('x'); print ('y')\n",
    "elif x == 2: print ('a'); print ('b')\n",
    "else : print ('z')"
   ]
  },
  {
   "cell_type": "code",
   "execution_count": 13,
   "id": "c0f67e0e",
   "metadata": {},
   "outputs": [
    {
     "name": "stdout",
     "output_type": "stream",
     "text": [
      "teen\n"
     ]
    }
   ],
   "source": [
    "umur = 11\n",
    "a ='teen' if umur < 21 else 'adult' \n",
    "print(a)"
   ]
  },
  {
   "cell_type": "code",
   "execution_count": 36,
   "id": "49319bc4",
   "metadata": {},
   "outputs": [
    {
     "data": {
      "text/plain": [
       "'no'"
      ]
     },
     "execution_count": 36,
     "metadata": {},
     "output_type": "execute_result"
    }
   ],
   "source": [
    "'yes' if ('qux' in ['foo', 'bar', 'baz']) else 'no'"
   ]
  },
  {
   "cell_type": "code",
   "execution_count": 39,
   "id": "7c285b9e",
   "metadata": {},
   "outputs": [
    {
     "name": "stdout",
     "output_type": "stream",
     "text": [
      "foo\n"
     ]
    }
   ],
   "source": [
    "if True :\n",
    "    pass\n",
    "\n",
    "print ('foo')"
   ]
  },
  {
   "cell_type": "code",
   "execution_count": 47,
   "id": "b5aeebcd",
   "metadata": {},
   "outputs": [
    {
     "name": "stdout",
     "output_type": "stream",
     "text": [
      "5\n",
      "4\n",
      "3\n",
      "2\n",
      "1\n",
      "0\n"
     ]
    }
   ],
   "source": [
    "n = 6\n",
    "while n > 0 :\n",
    "    n -= 1\n",
    "    print (n)"
   ]
  },
  {
   "cell_type": "code",
   "execution_count": 46,
   "id": "296288f7",
   "metadata": {},
   "outputs": [
    {
     "name": "stdout",
     "output_type": "stream",
     "text": [
      "2\n",
      "3\n",
      "4\n",
      "5\n",
      "6\n"
     ]
    }
   ],
   "source": [
    "i = 1\n",
    "while i < 6:\n",
    "    i += 1\n",
    "    print(i)"
   ]
  },
  {
   "cell_type": "code",
   "execution_count": 56,
   "id": "d206ba1d",
   "metadata": {},
   "outputs": [
    {
     "name": "stdout",
     "output_type": "stream",
     "text": [
      "5\n",
      "4\n",
      "3\n",
      "loop ended\n"
     ]
    }
   ],
   "source": [
    "n = 6\n",
    "while n > 0 :\n",
    "    n -= 1\n",
    "    if n == 2:\n",
    "        break\n",
    "    print(n)\n",
    "print ('loop ended')"
   ]
  },
  {
   "cell_type": "code",
   "execution_count": 58,
   "id": "2b4cd548",
   "metadata": {},
   "outputs": [
    {
     "name": "stdout",
     "output_type": "stream",
     "text": [
      "5\n",
      "4\n",
      "3\n",
      "1\n",
      "0\n",
      "loop ended\n"
     ]
    }
   ],
   "source": [
    "n = 6\n",
    "while n > 0 :\n",
    "    n -= 1\n",
    "    if n == 2:\n",
    "        continue\n",
    "    print(n)\n",
    "print ('loop ended')"
   ]
  },
  {
   "cell_type": "code",
   "execution_count": 60,
   "id": "8c2c4719",
   "metadata": {},
   "outputs": [
    {
     "name": "stdout",
     "output_type": "stream",
     "text": [
      "5\n",
      "4\n",
      "3\n",
      "2\n",
      "1\n",
      "0\n",
      "loop done\n"
     ]
    }
   ],
   "source": [
    "n = 6\n",
    "while n > 0 :\n",
    "    n -= 1\n",
    "    print (n)\n",
    "else :\n",
    "    print ('loop done')"
   ]
  },
  {
   "cell_type": "code",
   "execution_count": 24,
   "id": "7bad894c",
   "metadata": {},
   "outputs": [
    {
     "name": "stdout",
     "output_type": "stream",
     "text": [
      "*\n",
      "**\n",
      "***\n",
      "****\n",
      "\n"
     ]
    }
   ],
   "source": [
    "x = '*'\n",
    "baris = 1;\n",
    "jml = 4;\n",
    "hasil = ''\n",
    "while baris <= jml:\n",
    "    kolom = baris\n",
    "    while kolom > 0:\n",
    "        hasil += x\n",
    "        kolom -= 1\n",
    "    hasil += '\\n'\n",
    "    baris += 1\n",
    "\n",
    "print (hasil)\n"
   ]
  },
  {
   "cell_type": "code",
   "execution_count": 4,
   "id": "1a95dd81",
   "metadata": {
    "scrolled": true
   },
   "outputs": [
    {
     "name": "stdout",
     "output_type": "stream",
     "text": [
      "foo\n",
      "> baz\n",
      "> qux\n",
      "bar\n",
      "> baz\n",
      "> qux\n"
     ]
    }
   ],
   "source": [
    "a = ['foo', 'bar']\n",
    "while len(a):\n",
    "    print (a.pop(0))\n",
    "    \n",
    "    b = ['baz', 'qux']\n",
    "    while len(b):\n",
    "        print ('>', b.pop(0))"
   ]
  },
  {
   "cell_type": "code",
   "execution_count": 7,
   "id": "7682451b",
   "metadata": {},
   "outputs": [
    {
     "name": "stdout",
     "output_type": "stream",
     "text": [
      "foo\n",
      "bar\n",
      "baz\n"
     ]
    }
   ],
   "source": [
    "d = {'foo' : 1, 'bar': 2, 'baz': 3}\n",
    "for k in d:\n",
    "    print(k)"
   ]
  },
  {
   "cell_type": "code",
   "execution_count": 33,
   "id": "86285133",
   "metadata": {},
   "outputs": [
    {
     "name": "stdout",
     "output_type": "stream",
     "text": [
      "foo : 1\n",
      "bar : 2\n",
      "baz : 3\n"
     ]
    }
   ],
   "source": [
    "for k, v in d.items():\n",
    "    print (k, ':', v)"
   ]
  },
  {
   "cell_type": "code",
   "execution_count": 8,
   "id": "d34b8c6c",
   "metadata": {},
   "outputs": [
    {
     "name": "stdout",
     "output_type": "stream",
     "text": [
      "{'foo': 1, 'bar': 2, 'baz': 3}\n",
      "{'foo': 1, 'bar': 2, 'baz': 3}\n",
      "{'foo': 1, 'bar': 2, 'baz': 3}\n"
     ]
    }
   ],
   "source": [
    "for v in d.values():\n",
    "    print (d)"
   ]
  },
  {
   "cell_type": "code",
   "execution_count": 14,
   "id": "69477901",
   "metadata": {},
   "outputs": [
    {
     "name": "stdout",
     "output_type": "stream",
     "text": [
      "foo\n"
     ]
    }
   ],
   "source": [
    "for i in ['foo', 'bar', 'baz', 'qux']:\n",
    "    if i == 'bar':\n",
    "        break\n",
    "    print (i)\n",
    "else :\n",
    "    print ('Done')"
   ]
  },
  {
   "cell_type": "code",
   "execution_count": 53,
   "id": "cef8f510",
   "metadata": {},
   "outputs": [
    {
     "name": "stdout",
     "output_type": "stream",
     "text": [
      "Masukan temperatur,(misalnya 30F, 20C) :150F\n",
      "temperaturnya adalah 66 derajat\n"
     ]
    }
   ],
   "source": [
    "temp = input('Masukan temperatur,(misalnya 30F, 20C) :')\n",
    "degree = int(temp[:-1])\n",
    "i_convertion = temp[-1]\n",
    "\n",
    "if i_convertion == 'C':\n",
    "    result = int(round((9*degree)/5+32)), \n",
    "elif i_convertion == 'F':\n",
    "    result = int(round((degree - 32)*5/9))\n",
    "else:\n",
    "    print('masukan input yang benar')\n",
    "\n",
    "print('temperaturnya adalah', result, 'derajat')"
   ]
  },
  {
   "cell_type": "code",
   "execution_count": 52,
   "id": "9effc9dc",
   "metadata": {},
   "outputs": [
    {
     "name": "stdout",
     "output_type": "stream",
     "text": [
      "no\n"
     ]
    }
   ],
   "source": [
    "x =4\n",
    "y = 20\n",
    "if x < y:\n",
    "    print('no')\n",
    "else:\n",
    "    print ('yes')"
   ]
  },
  {
   "cell_type": "code",
   "execution_count": 60,
   "id": "235841d2",
   "metadata": {},
   "outputs": [
    {
     "name": "stdout",
     "output_type": "stream",
     "text": [
      "Masukan Perintah:mulai\n",
      "mulai\n",
      "Masukan Perintah:lanjut\n",
      "lanjut\n",
      "Masukan Perintah:stop\n",
      "stop\n"
     ]
    }
   ],
   "source": [
    "while True:\n",
    "    msg = input('Masukan Perintah:').lower()\n",
    "    print(msg)\n",
    "    if msg == 'stop':\n",
    "            break"
   ]
  },
  {
   "cell_type": "code",
   "execution_count": null,
   "id": "7ad95ed3",
   "metadata": {},
   "outputs": [],
   "source": []
  }
 ],
 "metadata": {
  "kernelspec": {
   "display_name": "Python 3",
   "language": "python",
   "name": "python3"
  },
  "language_info": {
   "codemirror_mode": {
    "name": "ipython",
    "version": 3
   },
   "file_extension": ".py",
   "mimetype": "text/x-python",
   "name": "python",
   "nbconvert_exporter": "python",
   "pygments_lexer": "ipython3",
   "version": "3.8.8"
  }
 },
 "nbformat": 4,
 "nbformat_minor": 5
}
